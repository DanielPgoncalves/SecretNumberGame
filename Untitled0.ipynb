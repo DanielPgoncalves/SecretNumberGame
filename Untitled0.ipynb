{
  "cells": [
    {
      "cell_type": "markdown",
      "metadata": {
        "id": "view-in-github",
        "colab_type": "text"
      },
      "source": [
        "<a href=\"https://colab.research.google.com/github/DanielPgoncalves/jogo-n-mero-secreto/blob/main/Untitled0.ipynb\" target=\"_parent\"><img src=\"https://colab.research.google.com/assets/colab-badge.svg\" alt=\"Open In Colab\"/></a>"
      ]
    },
    {
      "cell_type": "code",
      "source": [
        "def escolha_servico():\n",
        "    ##Função para escolher o serviço desejado.\n",
        "    while True:\n",
        "        servico = input('Digite o serviço desejado (DIG/ICO/IPB/FTO): ').upper() #utilizando método upper pois caso o usuário digitee Dig ou dig o programa executará da mesma forma, pois este método converterá as strings de caracteres minúsculos em maiúsculos.\n",
        "        if servico in ['DIG', 'ICO', 'IPB', 'FTO']:\n",
        "          if servico == 'DIG':\n",
        "            return 1.10\n",
        "          elif servico == 'ICO':\n",
        "            return 1.00\n",
        "          elif servico == 'IPB':\n",
        "            return 0.40\n",
        "          elif serivco == 'FTO':\n",
        "            return 0.20\n",
        "        else:\n",
        "            print('Opção inválida! Por favor, escolha entre as opções acima.')\n",
        "\n",
        "\n",
        "def num_pagina():\n",
        "\n",
        "    #Função para inserir o número de páginas desejado com desconto.\n",
        "\n",
        "    while True:\n",
        "        try:\n",
        "            num_paginas = int(input('Digite o número de páginas que deseja imprimir: '))\n",
        "            if num_paginas < 20:\n",
        "                return num_paginas\n",
        "            elif 20 <= num_paginas < 200:\n",
        "                return num_paginas * 0.85  # Aplicando desconto de 15%\n",
        "            elif 200 <= num_paginas < 2000:\n",
        "                return num_paginas * 0.80  # Aplicando desconto de 20%\n",
        "            elif 2000 <= num_paginas < 20000:\n",
        "                return num_paginas * 0.75  # Aplicando desconto de 25%\n",
        "            else:\n",
        "                print(\"Não aceitamos pedidos com mais de 20000 páginas!\")\n",
        "        except ValueError:\n",
        "            print(\"Por favor, entre com um número de páginas novamente.\")\n",
        "\n",
        "\n",
        "def servico_extra():\n",
        "\n",
        "    ##Função para escolher o serviço adicional desejado\n",
        "\n",
        "    while True:\n",
        "        try:\n",
        "            print('Deseja realizar o adicional de algum serviço?')\n",
        "            print('1 - Encadernação Simples - R$ 15,00')\n",
        "            print('2 - Encadernação Capa Dura - R$ 40,00')\n",
        "            print('0 - Não desejo mais nada')\n",
        "            servico_extra_escolhido = int(input('Deseja adicionar algum serviço extra?: '))\n",
        "            if servico_extra_escolhido in [1, 2, 0]:\n",
        "                if servico_extra_escolhido == 1:\n",
        "                    return 15.00  # Valor adicional para encadernação simples\n",
        "                elif servico_extra_escolhido == 2:\n",
        "                    return 40.00  # Valor adicional para encadernação de capa dura\n",
        "                else:\n",
        "                    return 0.00  # Não há serviço extra\n",
        "            else:\n",
        "                print('Opção inválida! Por favor, escolha entre as opções acima.')\n",
        "        except ValueError:\n",
        "            print(\"Por favor, digite um valor numérico válido.\")\n",
        "\n",
        "\n",
        "# Mensagem de boas-vindas\n",
        "print('-' * 35)\n",
        "print('Bem vindo a copiadora do Daniel')\n",
        "print('-' * 35)\n",
        "print('CONFIRA NOSSOS SERVIÇOS ABAIXO')\n",
        "print(' ')\n",
        "print('DIG - Digitação - R$ 1,10 por página')\n",
        "print('ICO - Impressão colorida - R$ 1,00 por página')\n",
        "print('IPB - Impressão preto e branco - R$ 0,40 por página')\n",
        "print('FTO - Fotocópia - 0,20')\n",
        "print('-' * 35)\n",
        "\n",
        "# Escolha do serviço\n",
        "servico = escolha_servico()\n",
        "\n",
        "# Número de páginas\n",
        "num_paginas_com_desconto = num_pagina()\n",
        "\n",
        "# Serviço extra\n",
        "extra = servico_extra()\n",
        "\n",
        "# Cálculo do total a pagar\n",
        "total = (servico * num_paginas_com_desconto) + extra\n",
        "\n",
        "# Saída de console com os resultados\n",
        "print('-' * 35)\n",
        "print(f\"O valor total a pagar é: R${total:.2f}\") #Usando f-string para formatar a saída com duas casas decimais\n",
        "print('-' * 35)\n"
      ],
      "metadata": {
        "colab": {
          "base_uri": "https://localhost:8080/"
        },
        "id": "D3Cn7fGl15F6",
        "outputId": "661b6b0b-8ea8-42af-f513-26adc638f194"
      },
      "execution_count": 21,
      "outputs": [
        {
          "output_type": "stream",
          "name": "stdout",
          "text": [
            "-----------------------------------\n",
            "Bem vindo a copiadora do Daniel\n",
            "-----------------------------------\n",
            "CONFIRA NOSSOS SERVIÇOS ABAIXO\n",
            " \n",
            "DIG - Digitação - R$ 1,10 por página\n",
            "ICO - Impressão colorida - R$ 1,00 por página\n",
            "IPB - Impressão preto e branco - R$ 0,40 por página\n",
            "FTO - Fotocópia - 0,20\n",
            "-----------------------------------\n",
            "Digite o serviço desejado (DIG/ICO/IPB/FTO): DIG\n",
            "Digite o número de páginas que deseja imprimir: 20\n",
            "Deseja realizar o adicional de algum serviço?\n",
            "1 - Encadernação Simples - R$ 15,00\n",
            "2 - Encadernação Capa Dura - R$ 40,00\n",
            "0 - Não desejo mais nada\n",
            "Deseja adicionar algum serviço extra?: 0\n",
            "-----------------------------------\n",
            "O valor total a pagar é: R$18.70\n",
            "-----------------------------------\n"
          ]
        }
      ]
    }
  ],
  "metadata": {
    "colab": {
      "provenance": [],
      "authorship_tag": "ABX9TyNIzCmfT0RLpc4cisXv0nYH",
      "include_colab_link": true
    },
    "kernelspec": {
      "display_name": "Python 3",
      "name": "python3"
    },
    "language_info": {
      "name": "python"
    }
  },
  "nbformat": 4,
  "nbformat_minor": 0
}